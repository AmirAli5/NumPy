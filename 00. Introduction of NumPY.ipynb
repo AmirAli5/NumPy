{
 "cells": [
  {
   "cell_type": "markdown",
   "metadata": {},
   "source": [
    "### What is NumPy?\n",
    "* Num stands for numerical and Py stands for Python programming language.\n",
    "* NumPy is a scientific computing package (library) for python programming language.\n",
    "* Numpy is a powerful Python programming language library to solve numerical problems.\n",
    "* NumPy used for numeric and mathematical calculation like linear algebra, Fourier transform, and random number capabilities using Numpy array.\n",
    "* NumPy supports large data in the form of a multidimensional array (vector and matrix)."
   ]
  },
  {
   "cell_type": "markdown",
   "metadata": {},
   "source": [
    "### Multidimensional NumPy arrays"
   ]
  },
  {
   "cell_type": "markdown",
   "metadata": {},
   "source": [
    "![download.png](https://i2.wp.com/indianaiproduction.com/wp-content/uploads/2019/06/Python-NumPy-Tutorial.png?resize=768%2C432&ssl=1)"
   ]
  },
  {
   "cell_type": "markdown",
   "metadata": {},
   "source": [
    "The above figure shows one dimensional (1D), two dimensional (2D) and three dimensional (3D) NumPy array\n",
    "\n",
    "1. One Dimensional NumPy array (1D): It means the collection of homogenous data in a single row (vector).\n",
    "\n",
    "2. Two Dimensional NumPy arrays (2D): It means the collection of homogenous data in lists of a list (matrix).\n",
    "\n",
    "3. Three Dimensional NumPy arrays (3D): It means the collection of homogenous data in lists of lists of a list (tensor)."
   ]
  },
  {
   "cell_type": "markdown",
   "metadata": {},
   "source": [
    "### Why NumPy array instead of Python List ?"
   ]
  },
  {
   "cell_type": "markdown",
   "metadata": {},
   "source": [
    "To create a NumPy array used list. NumPy array and Python list are both the most similar. NumPy has written in C and Python. That’s a reason some special advantage over Python list is given below.\n",
    "* Faster\n",
    "* Uses less memory to store data\n",
    "* Convenient"
   ]
  },
  {
   "cell_type": "markdown",
   "metadata": {},
   "source": [
    "![download.png](https://i0.wp.com/indianaiproduction.com/wp-content/uploads/2019/06/Python-NumPy-Tutorial-NumPy-vs-Python-List.png?resize=768%2C234&ssl=1)"
   ]
  },
  {
   "cell_type": "markdown",
   "metadata": {},
   "source": [
    "### Why use NumPy for machine learning, Deep Learning, and Data Science?"
   ]
  },
  {
   "cell_type": "markdown",
   "metadata": {},
   "source": [
    "![image.png](https://i0.wp.com/indianaiproduction.com/wp-content/uploads/2019/06/Python-NumPy-Tutorial-for-machine-learning-data-science-1.png?w=589&ssl=1)"
   ]
  },
  {
   "cell_type": "markdown",
   "metadata": {},
   "source": [
    "To solve computer vision and MRI, etc. So for that machine learning model want to use images, but the ML model can’t read image directly. So need to convert image into numeric form and then fit into NumPy array. which is the best way to give data to the ML model."
   ]
  },
  {
   "cell_type": "markdown",
   "metadata": {},
   "source": [
    "![](https://i0.wp.com/indianaiproduction.com/wp-content/uploads/2019/06/Python-NumPy-Tutorial-for-machine-learning-data-science-2.png?w=527&ssl=1)"
   ]
  },
  {
   "cell_type": "markdown",
   "metadata": {},
   "source": [
    "Machine Learning model also used to solve business problems. But we can’t provide ‘.tsv’, ‘.csv’ files data to the ML model, So for that also need to use NumPy array."
   ]
  }
 ],
 "metadata": {
  "kernelspec": {
   "display_name": "Python 3",
   "language": "python",
   "name": "python3"
  },
  "language_info": {
   "codemirror_mode": {
    "name": "ipython",
    "version": 3
   },
   "file_extension": ".py",
   "mimetype": "text/x-python",
   "name": "python",
   "nbconvert_exporter": "python",
   "pygments_lexer": "ipython3",
   "version": "3.6.1"
  }
 },
 "nbformat": 4,
 "nbformat_minor": 2
}
