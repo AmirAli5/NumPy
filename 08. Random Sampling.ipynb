{
 "cells": [
  {
   "cell_type": "markdown",
   "metadata": {},
   "source": [
    "# NumPy Practical 08\n",
    "Random Sampling"
   ]
  },
  {
   "cell_type": "markdown",
   "metadata": {},
   "source": [
    "#### Import Library"
   ]
  },
  {
   "cell_type": "code",
   "execution_count": 2,
   "metadata": {},
   "outputs": [],
   "source": [
    "import numpy as np\n",
    "import  random"
   ]
  },
  {
   "cell_type": "markdown",
   "metadata": {},
   "source": [
    "### Random Sampling"
   ]
  },
  {
   "cell_type": "markdown",
   "metadata": {},
   "source": [
    "#### random.random()"
   ]
  },
  {
   "cell_type": "code",
   "execution_count": 2,
   "metadata": {},
   "outputs": [
    {
     "data": {
      "text/plain": [
       "array([0.65539888, 0.58967567, 0.90419845])"
      ]
     },
     "execution_count": 2,
     "metadata": {},
     "output_type": "execute_result"
    }
   ],
   "source": [
    "# create a (1d) 3 random value between 0-1\n",
    "np.random.random(3)"
   ]
  },
  {
   "cell_type": "code",
   "execution_count": 3,
   "metadata": {},
   "outputs": [
    {
     "data": {
      "text/plain": [
       "array([0.11315567, 0.95196795, 0.63528331, 0.98415121, 0.35683514,\n",
       "       0.38825191])"
      ]
     },
     "execution_count": 3,
     "metadata": {},
     "output_type": "execute_result"
    }
   ],
   "source": [
    "# create a (1d) 6 random value between 0-1\n",
    "np.random.random(6)"
   ]
  },
  {
   "cell_type": "code",
   "execution_count": 4,
   "metadata": {},
   "outputs": [
    {
     "data": {
      "text/plain": [
       "array([[0.19580785, 0.59939543],\n",
       "       [0.38270473, 0.482387  ]])"
      ]
     },
     "execution_count": 4,
     "metadata": {},
     "output_type": "execute_result"
    }
   ],
   "source": [
    "# create a (2d) 2 col 2 row random value between 0-1\n",
    "np.random.random((2, 2))"
   ]
  },
  {
   "cell_type": "code",
   "execution_count": 7,
   "metadata": {},
   "outputs": [
    {
     "data": {
      "text/plain": [
       "array([[0.67326659, 0.29050289, 0.59008357, 0.50920032],\n",
       "       [0.12231544, 0.31137308, 0.38482536, 0.38242348],\n",
       "       [0.38826994, 0.68038635, 0.61698576, 0.30598885]])"
      ]
     },
     "execution_count": 7,
     "metadata": {},
     "output_type": "execute_result"
    }
   ],
   "source": [
    "# create a (2d) 2 col 2 row random value between 0-1\n",
    "np.random.random((3, 4))"
   ]
  },
  {
   "cell_type": "code",
   "execution_count": 40,
   "metadata": {},
   "outputs": [
    {
     "data": {
      "text/plain": [
       "array([[[0.87239246, 0.98302087, 0.46740328, 0.87574449],\n",
       "        [0.2960687 , 0.13129105, 0.84281793, 0.6590363 ],\n",
       "        [0.5954396 , 0.4363537 , 0.35625033, 0.58713093]],\n",
       "\n",
       "       [[0.14947134, 0.1712386 , 0.39716452, 0.63795156],\n",
       "        [0.37251995, 0.00240676, 0.54881636, 0.12697184],\n",
       "        [0.07979268, 0.2350386 , 0.65996495, 0.21495319]]])"
      ]
     },
     "execution_count": 40,
     "metadata": {},
     "output_type": "execute_result"
    }
   ],
   "source": [
    "# create a (3d)  random value between 0-1\n",
    "np.random.random((2, 3, 4))"
   ]
  },
  {
   "cell_type": "markdown",
   "metadata": {},
   "source": [
    "#### random.randint()"
   ]
  },
  {
   "cell_type": "code",
   "execution_count": 6,
   "metadata": {},
   "outputs": [
    {
     "data": {
      "text/plain": [
       "2"
      ]
     },
     "execution_count": 6,
     "metadata": {},
     "output_type": "execute_result"
    }
   ],
   "source": [
    "# create a random value between 2-4\n",
    "np.random.randint(2, 4)"
   ]
  },
  {
   "cell_type": "code",
   "execution_count": 24,
   "metadata": {},
   "outputs": [
    {
     "data": {
      "text/plain": [
       "7"
      ]
     },
     "execution_count": 24,
     "metadata": {},
     "output_type": "execute_result"
    }
   ],
   "source": [
    "# create a random value between 5-10\n",
    "np.random.randint(5,10)"
   ]
  },
  {
   "cell_type": "code",
   "execution_count": 23,
   "metadata": {},
   "outputs": [
    {
     "data": {
      "text/plain": [
       "array([[3, 4],\n",
       "       [2, 2]])"
      ]
     },
     "execution_count": 23,
     "metadata": {},
     "output_type": "execute_result"
    }
   ],
   "source": [
    "# create a (2d) random value between 2-5\n",
    "np.random.randint(2,5, (2, 2))                     # ( range, (row, col))"
   ]
  },
  {
   "cell_type": "code",
   "execution_count": 25,
   "metadata": {},
   "outputs": [
    {
     "data": {
      "text/plain": [
       "array([[1, 2, 2, 4, 2],\n",
       "       [2, 3, 3, 2, 2],\n",
       "       [3, 1, 1, 3, 3],\n",
       "       [1, 3, 2, 4, 2]])"
      ]
     },
     "execution_count": 25,
     "metadata": {},
     "output_type": "execute_result"
    }
   ],
   "source": [
    "# create a (2d) random value between 1-5\n",
    "np.random.randint(1,5, (4, 5))                     # ( range, (row, col))"
   ]
  },
  {
   "cell_type": "code",
   "execution_count": 39,
   "metadata": {},
   "outputs": [
    {
     "data": {
      "text/plain": [
       "array([[[3, 1, 2, 1],\n",
       "        [3, 1, 3, 1],\n",
       "        [4, 1, 1, 4],\n",
       "        [4, 3, 1, 4],\n",
       "        [3, 3, 2, 1]],\n",
       "\n",
       "       [[1, 3, 2, 4],\n",
       "        [3, 2, 2, 2],\n",
       "        [4, 2, 3, 2],\n",
       "        [1, 3, 3, 3],\n",
       "        [2, 1, 2, 4]],\n",
       "\n",
       "       [[2, 1, 4, 3],\n",
       "        [2, 2, 3, 4],\n",
       "        [3, 1, 4, 1],\n",
       "        [3, 1, 2, 4],\n",
       "        [3, 1, 3, 4]],\n",
       "\n",
       "       [[1, 4, 2, 3],\n",
       "        [4, 4, 1, 2],\n",
       "        [1, 3, 1, 1],\n",
       "        [1, 2, 1, 4],\n",
       "        [1, 1, 3, 1]]])"
      ]
     },
     "execution_count": 39,
     "metadata": {},
     "output_type": "execute_result"
    }
   ],
   "source": [
    "# create a (23) random value between 1-5\n",
    "np.random.randint(1,5, (4, 5, 4))                     # ( range, (3d))"
   ]
  },
  {
   "cell_type": "markdown",
   "metadata": {},
   "source": [
    "####  np.random.seed()"
   ]
  },
  {
   "cell_type": "code",
   "execution_count": 29,
   "metadata": {},
   "outputs": [
    {
     "data": {
      "text/plain": [
       "array([[2, 2, 1, 4],\n",
       "       [1, 2, 4, 1],\n",
       "       [2, 2, 1, 2],\n",
       "       [2, 3, 1, 2]])"
      ]
     },
     "execution_count": 29,
     "metadata": {},
     "output_type": "execute_result"
    }
   ],
   "source": [
    "np.random.seed(10)\n",
    "np.random.randint(1, 5, (4 ,4))"
   ]
  },
  {
   "cell_type": "code",
   "execution_count": 32,
   "metadata": {},
   "outputs": [
    {
     "data": {
      "text/plain": [
       "array([[2, 2, 1, 4],\n",
       "       [1, 2, 4, 1],\n",
       "       [2, 2, 1, 2],\n",
       "       [2, 3, 1, 2]])"
      ]
     },
     "execution_count": 32,
     "metadata": {},
     "output_type": "execute_result"
    }
   ],
   "source": [
    "# same print as above by using seed \n",
    "np.random.seed(10)\n",
    "np.random.randint(1, 5, (4 ,4))"
   ]
  },
  {
   "cell_type": "code",
   "execution_count": 41,
   "metadata": {},
   "outputs": [
    {
     "data": {
      "text/plain": [
       "array([[[3, 3],\n",
       "        [2, 2]],\n",
       "\n",
       "       [[3, 2],\n",
       "        [3, 3]]])"
      ]
     },
     "execution_count": 41,
     "metadata": {},
     "output_type": "execute_result"
    }
   ],
   "source": [
    "np.random.seed(10)\n",
    "np.random.randint(2, 5, (2, 2 , 2))"
   ]
  },
  {
   "cell_type": "code",
   "execution_count": 42,
   "metadata": {},
   "outputs": [
    {
     "data": {
      "text/plain": [
       "array([[[3, 3],\n",
       "        [2, 2]],\n",
       "\n",
       "       [[3, 2],\n",
       "        [3, 3]]])"
      ]
     },
     "execution_count": 42,
     "metadata": {},
     "output_type": "execute_result"
    }
   ],
   "source": [
    "# same print as above by using seed \n",
    "np.random.seed(10)\n",
    "np.random.randint(2, 5, (2, 2 , 2))"
   ]
  },
  {
   "cell_type": "markdown",
   "metadata": {},
   "source": [
    "#### np.random.rand()"
   ]
  },
  {
   "cell_type": "code",
   "execution_count": 38,
   "metadata": {},
   "outputs": [
    {
     "data": {
      "text/plain": [
       "array([0.44301495, 0.83191136, 0.58332174, 0.02517173])"
      ]
     },
     "execution_count": 38,
     "metadata": {},
     "output_type": "execute_result"
    }
   ],
   "source": [
    "# create(1d) 4 random values range between 0 ,1\n",
    "np.random.rand(4)"
   ]
  },
  {
   "cell_type": "code",
   "execution_count": 68,
   "metadata": {},
   "outputs": [
    {
     "data": {
      "text/plain": [
       "array([[0.83487913, 0.21221285, 0.9619666 ],\n",
       "       [0.26114034, 0.8637702 , 0.12687442]])"
      ]
     },
     "execution_count": 68,
     "metadata": {},
     "output_type": "execute_result"
    }
   ],
   "source": [
    "# create 2d range between 0 ,1\n",
    "np.random.rand(2, 3)             # (row, col)"
   ]
  },
  {
   "cell_type": "code",
   "execution_count": 69,
   "metadata": {},
   "outputs": [
    {
     "data": {
      "text/plain": [
       "array([[[0.37090221, 0.67193303, 0.93385224],\n",
       "        [0.55889953, 0.67244911, 0.07705526],\n",
       "        [0.24988623, 0.35558139, 0.02343209]],\n",
       "\n",
       "       [[0.93512902, 0.20959771, 0.57677298],\n",
       "        [0.58104733, 0.23392116, 0.48297919],\n",
       "        [0.54704332, 0.87181231, 0.96403603]]])"
      ]
     },
     "execution_count": 69,
     "metadata": {},
     "output_type": "execute_result"
    }
   ],
   "source": [
    "# create 3d range between 0 ,1\n",
    "np.random.rand(2, 3, 3) "
   ]
  },
  {
   "cell_type": "markdown",
   "metadata": {},
   "source": [
    "#### np.random.randn()"
   ]
  },
  {
   "cell_type": "code",
   "execution_count": 70,
   "metadata": {},
   "outputs": [
    {
     "data": {
      "text/plain": [
       "array([0.23610191, 0.1617761 ])"
      ]
     },
     "execution_count": 70,
     "metadata": {},
     "output_type": "execute_result"
    }
   ],
   "source": [
    "# same as above but difference create a -ve and +ve values\n",
    "np.random.randn(2)"
   ]
  },
  {
   "cell_type": "code",
   "execution_count": 71,
   "metadata": {},
   "outputs": [
    {
     "data": {
      "text/plain": [
       "array([ 0.22555155, -1.1219324 ])"
      ]
     },
     "execution_count": 71,
     "metadata": {},
     "output_type": "execute_result"
    }
   ],
   "source": [
    "# 1d\n",
    "np.random.randn(2)"
   ]
  },
  {
   "cell_type": "code",
   "execution_count": 72,
   "metadata": {},
   "outputs": [
    {
     "data": {
      "text/plain": [
       "array([[ 1.20248351,  1.51133379, -1.87214559],\n",
       "       [-0.64912164,  1.39491644,  1.04979671]])"
      ]
     },
     "execution_count": 72,
     "metadata": {},
     "output_type": "execute_result"
    }
   ],
   "source": [
    "# 2d\n",
    "np.random.randn(2, 3)"
   ]
  },
  {
   "cell_type": "code",
   "execution_count": 73,
   "metadata": {},
   "outputs": [
    {
     "data": {
      "text/plain": [
       "array([[[-0.38924947, -0.64617433,  0.50132244,  0.55191692],\n",
       "        [ 1.46127126, -0.14540648,  0.73097974, -0.61770627],\n",
       "        [ 1.68435892, -0.87947247, -0.55992567, -0.17329043],\n",
       "        [ 0.33455353,  2.14682753, -1.02172033, -0.80415941]],\n",
       "\n",
       "       [[-2.04453685,  1.02078534, -0.09294796, -0.49084582],\n",
       "        [-1.0889499 ,  1.08746733, -0.93793301, -0.84867503],\n",
       "        [-1.27124735, -1.30212366, -0.80406783, -1.6515778 ],\n",
       "        [ 0.28964567, -0.60966094, -0.29495329, -0.34159808]],\n",
       "\n",
       "       [[ 1.22545095,  1.00308374, -2.33897791,  1.25085353],\n",
       "        [ 1.97019742, -1.42818822, -1.00084459, -0.47007672],\n",
       "        [-0.10003358,  1.06401267, -2.32304281,  0.59727058],\n",
       "        [ 0.34824836, -0.14823938, -1.19640778,  0.14137642]],\n",
       "\n",
       "       [[-0.48421859, -1.31026558, -0.58947099, -0.7802598 ],\n",
       "        [-0.80252792, -1.22772372,  1.31766349,  1.16669796],\n",
       "        [-0.41931019, -0.30383972,  0.52863211, -0.76114164],\n",
       "        [-0.61322057, -1.28747267, -2.15194335,  0.66717803]]])"
      ]
     },
     "execution_count": 73,
     "metadata": {},
     "output_type": "execute_result"
    }
   ],
   "source": [
    "# 3d\n",
    "np.random.randn(4, 4 ,4)"
   ]
  },
  {
   "cell_type": "markdown",
   "metadata": {},
   "source": [
    "#### np.random.choice()\n",
    "It choose random item between given array"
   ]
  },
  {
   "cell_type": "code",
   "execution_count": 74,
   "metadata": {},
   "outputs": [
    {
     "data": {
      "text/plain": [
       "9"
      ]
     },
     "execution_count": 74,
     "metadata": {},
     "output_type": "execute_result"
    }
   ],
   "source": [
    "x= [1, 4 ,3 ,7 , 9]\n",
    "np.random.choice(x)"
   ]
  },
  {
   "cell_type": "code",
   "execution_count": 75,
   "metadata": {},
   "outputs": [
    {
     "data": {
      "text/plain": [
       "7"
      ]
     },
     "execution_count": 75,
     "metadata": {},
     "output_type": "execute_result"
    }
   ],
   "source": [
    "x= [1, 4 ,3 ,7 , 9]\n",
    "np.random.choice(x)"
   ]
  },
  {
   "cell_type": "code",
   "execution_count": 76,
   "metadata": {},
   "outputs": [
    {
     "data": {
      "text/plain": [
       "9"
      ]
     },
     "execution_count": 76,
     "metadata": {},
     "output_type": "execute_result"
    }
   ],
   "source": [
    "x= [1, 4 ,3 ,7 , 9]\n",
    "np.random.choice(x)"
   ]
  },
  {
   "cell_type": "code",
   "execution_count": 77,
   "metadata": {},
   "outputs": [
    {
     "data": {
      "text/plain": [
       "7"
      ]
     },
     "execution_count": 77,
     "metadata": {},
     "output_type": "execute_result"
    }
   ],
   "source": [
    "x= [1, 4 ,3 ,7 , 9]\n",
    "np.random.choice(x)"
   ]
  },
  {
   "cell_type": "code",
   "execution_count": 78,
   "metadata": {},
   "outputs": [
    {
     "data": {
      "text/plain": [
       "4"
      ]
     },
     "execution_count": 78,
     "metadata": {},
     "output_type": "execute_result"
    }
   ],
   "source": [
    "x= [1, 4 ,3 ,7 , 9]\n",
    "np.random.choice(x)"
   ]
  },
  {
   "cell_type": "code",
   "execution_count": 79,
   "metadata": {},
   "outputs": [
    {
     "data": {
      "text/plain": [
       "9"
      ]
     },
     "execution_count": 79,
     "metadata": {},
     "output_type": "execute_result"
    }
   ],
   "source": [
    "x= [1, 4 ,3 ,7 , 9]\n",
    "np.random.choice(x)"
   ]
  },
  {
   "cell_type": "code",
   "execution_count": 80,
   "metadata": {},
   "outputs": [
    {
     "data": {
      "text/plain": [
       "3"
      ]
     },
     "execution_count": 80,
     "metadata": {},
     "output_type": "execute_result"
    }
   ],
   "source": [
    "x= [1, 4 ,3 ,7 , 9]\n",
    "np.random.choice(x)"
   ]
  },
  {
   "cell_type": "markdown",
   "metadata": {},
   "source": [
    "#### np.random.permutation()\n",
    "It refers to the act or process of changing the linear order of an ordered set."
   ]
  },
  {
   "cell_type": "code",
   "execution_count": 62,
   "metadata": {},
   "outputs": [
    {
     "data": {
      "text/plain": [
       "array([2, 8, 1, 7, 3, 4])"
      ]
     },
     "execution_count": 62,
     "metadata": {},
     "output_type": "execute_result"
    }
   ],
   "source": [
    "x = [3 ,1 ,4 ,2 ,7 , 8]\n",
    "np.random.permutation(x)"
   ]
  },
  {
   "cell_type": "code",
   "execution_count": 63,
   "metadata": {},
   "outputs": [
    {
     "data": {
      "text/plain": [
       "array([3, 7, 1, 8, 4, 2])"
      ]
     },
     "execution_count": 63,
     "metadata": {},
     "output_type": "execute_result"
    }
   ],
   "source": [
    "x = [3 ,1 ,4 ,2 ,7 , 8]\n",
    "np.random.permutation(x)"
   ]
  },
  {
   "cell_type": "code",
   "execution_count": 64,
   "metadata": {},
   "outputs": [
    {
     "data": {
      "text/plain": [
       "array([2, 8, 4, 1, 7, 3])"
      ]
     },
     "execution_count": 64,
     "metadata": {},
     "output_type": "execute_result"
    }
   ],
   "source": [
    "x = [3 ,1 ,4 ,2 ,7 , 8]\n",
    "np.random.permutation(x)"
   ]
  },
  {
   "cell_type": "code",
   "execution_count": 65,
   "metadata": {},
   "outputs": [
    {
     "data": {
      "text/plain": [
       "array([3, 2, 1, 4, 8, 7])"
      ]
     },
     "execution_count": 65,
     "metadata": {},
     "output_type": "execute_result"
    }
   ],
   "source": [
    "x = [3 ,1 ,4 ,2 ,7 , 8]\n",
    "np.random.permutation(x)"
   ]
  }
 ],
 "metadata": {
  "kernelspec": {
   "display_name": "Python 3",
   "language": "python",
   "name": "python3"
  },
  "language_info": {
   "codemirror_mode": {
    "name": "ipython",
    "version": 3
   },
   "file_extension": ".py",
   "mimetype": "text/x-python",
   "name": "python",
   "nbconvert_exporter": "python",
   "pygments_lexer": "ipython3",
   "version": "3.6.1"
  }
 },
 "nbformat": 4,
 "nbformat_minor": 2
}
